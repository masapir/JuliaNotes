{
 "metadata": {
  "language": "Julia",
  "name": "",
  "signature": "sha256:60e81bf5b1a6b4379c7d21b0d9fc5d9ee222a23faa3b766d00d120a464fe0f42"
 },
 "nbformat": 3,
 "nbformat_minor": 0,
 "worksheets": [
  {
   "cells": [
    {
     "cell_type": "heading",
     "level": 1,
     "metadata": {},
     "source": [
      "Procedures Returned As Values"
     ]
    },
    {
     "cell_type": "markdown",
     "metadata": {},
     "source": [
      "Exericises from Abelson and Sussman, Structure and Interpretation of Computer Programs."
     ]
    },
    {
     "cell_type": "markdown",
     "metadata": {},
     "source": [
      "In Julia functions can be returned as function values in addition to being arguments for functions. The following exercises illustrate how this language capability is useful to write complex code in a relatively simple way--and a way that focuses on the functional concepts handled by the code."
     ]
    },
    {
     "cell_type": "markdown",
     "metadata": {},
     "source": [
      "Ex 1.  Write a procedure that damps a function f by returning the average of f(x) and x:"
     ]
    },
    {
     "cell_type": "markdown",
     "metadata": {},
     "source": [
      "First a function to compute the average of 2 numbers."
     ]
    },
    {
     "cell_type": "code",
     "collapsed": false,
     "input": [
      "average(x, y) = (x + y)/2"
     ],
     "language": "python",
     "metadata": {},
     "outputs": [
      {
       "metadata": {},
       "output_type": "pyout",
       "prompt_number": 55,
       "text": [
        "average (generic function with 1 method)"
       ]
      }
     ],
     "prompt_number": 55
    },
    {
     "cell_type": "markdown",
     "metadata": {},
     "source": [
      "Now the average damping function for functions of one variable:"
     ]
    },
    {
     "cell_type": "code",
     "collapsed": false,
     "input": [
      "function average_damp(f)\n",
      "    x -> average(f(x), x)\n",
      "end"
     ],
     "language": "python",
     "metadata": {},
     "outputs": [
      {
       "metadata": {},
       "output_type": "pyout",
       "prompt_number": 56,
       "text": [
        "average_damp (generic function with 1 method)"
       ]
      }
     ],
     "prompt_number": 56
    },
    {
     "cell_type": "markdown",
     "metadata": {},
     "source": [
      "The function average_damp takes a function f as an argument and returns as a value another function of one variable x computing the average of f(x) and x."
     ]
    },
    {
     "cell_type": "code",
     "collapsed": false,
     "input": [
      "f(x) = x^2"
     ],
     "language": "python",
     "metadata": {},
     "outputs": [
      {
       "metadata": {},
       "output_type": "pyout",
       "prompt_number": 26,
       "text": [
        "f (generic function with 1 method)"
       ]
      }
     ],
     "prompt_number": 26
    },
    {
     "cell_type": "markdown",
     "metadata": {},
     "source": [
      "Now define a function g(x) s.t. g(x) is equal to the average damped value of f(x), i.e., average_damp(f)(x). Note that the call to average_damp(f) returns a function and then the notation func(x) applies the function func to the argument x."
     ]
    },
    {
     "cell_type": "code",
     "collapsed": false,
     "input": [
      "g(x) = average_damp(f)(x)"
     ],
     "language": "python",
     "metadata": {},
     "outputs": [
      {
       "metadata": {},
       "output_type": "pyout",
       "prompt_number": 32,
       "text": [
        "g (generic function with 1 method)"
       ]
      }
     ],
     "prompt_number": 32
    },
    {
     "cell_type": "code",
     "collapsed": false,
     "input": [
      "g(10)"
     ],
     "language": "python",
     "metadata": {},
     "outputs": [
      {
       "metadata": {},
       "output_type": "pyout",
       "prompt_number": 33,
       "text": [
        "55.0"
       ]
      }
     ],
     "prompt_number": 33
    },
    {
     "cell_type": "code",
     "collapsed": false,
     "input": [
      "(100 + 10)/2"
     ],
     "language": "python",
     "metadata": {},
     "outputs": [
      {
       "metadata": {},
       "output_type": "pyout",
       "prompt_number": 34,
       "text": [
        "55.0"
       ]
      }
     ],
     "prompt_number": 34
    },
    {
     "cell_type": "markdown",
     "metadata": {},
     "source": [
      "Revisiting the definition of the square root function using the fixed point function but this time with the new average_damp function:"
     ]
    },
    {
     "cell_type": "code",
     "collapsed": false,
     "input": [
      "function fixed_point(f, guess)\n",
      "    function close_enough(x, y)\n",
      "        abs(x - y) < 0.001\n",
      "    end\n",
      "    if close_enough(guess, f(guess))\n",
      "        guess\n",
      "    else\n",
      "        fixed_point(f, f(guess))\n",
      "    end\n",
      "end\n",
      "        "
     ],
     "language": "python",
     "metadata": {},
     "outputs": [
      {
       "metadata": {},
       "output_type": "pyout",
       "prompt_number": 89,
       "text": [
        "fixed_point (generic function with 1 method)"
       ]
      }
     ],
     "prompt_number": 89
    },
    {
     "cell_type": "code",
     "collapsed": false,
     "input": [
      "square_root(x) = fixed_point(average_damp(y -> x/y), 1.0)"
     ],
     "language": "python",
     "metadata": {},
     "outputs": [
      {
       "metadata": {},
       "output_type": "pyout",
       "prompt_number": 38,
       "text": [
        "square_root (generic function with 1 method)"
       ]
      }
     ],
     "prompt_number": 38
    },
    {
     "cell_type": "markdown",
     "metadata": {},
     "source": [
      "This definition shows explicitly the ideas used to compute the square root."
     ]
    },
    {
     "cell_type": "code",
     "collapsed": false,
     "input": [
      "square_root(25)"
     ],
     "language": "python",
     "metadata": {},
     "outputs": [
      {
       "metadata": {},
       "output_type": "pyout",
       "prompt_number": 39,
       "text": [
        "5.000023178253949"
       ]
      }
     ],
     "prompt_number": 39
    },
    {
     "cell_type": "code",
     "collapsed": false,
     "input": [
      "square_root(81)"
     ],
     "language": "python",
     "metadata": {},
     "outputs": [
      {
       "metadata": {},
       "output_type": "pyout",
       "prompt_number": 40,
       "text": [
        "9.000011298790216"
       ]
      }
     ],
     "prompt_number": 40
    },
    {
     "cell_type": "markdown",
     "metadata": {},
     "source": [
      "Given that the cube root of x is the fixed point of the function y -> x/y^2, write a function to compute the cube root:"
     ]
    },
    {
     "cell_type": "code",
     "collapsed": false,
     "input": [
      "cube_root(x) = fixed_point(average_damp(y -> x/(y^2)), 1.0)"
     ],
     "language": "python",
     "metadata": {},
     "outputs": [
      {
       "metadata": {},
       "output_type": "pyout",
       "prompt_number": 41,
       "text": [
        "cube_root (generic function with 1 method)"
       ]
      }
     ],
     "prompt_number": 41
    },
    {
     "cell_type": "code",
     "collapsed": false,
     "input": [
      "cube_root(27)"
     ],
     "language": "python",
     "metadata": {},
     "outputs": [
      {
       "metadata": {},
       "output_type": "pyout",
       "prompt_number": 42,
       "text": [
        "3.000354374849445"
       ]
      }
     ],
     "prompt_number": 42
    },
    {
     "cell_type": "code",
     "collapsed": false,
     "input": [
      "cube_root(729)"
     ],
     "language": "python",
     "metadata": {},
     "outputs": [
      {
       "metadata": {},
       "output_type": "pyout",
       "prompt_number": 43,
       "text": [
        "8.999518707296211"
       ]
      }
     ],
     "prompt_number": 43
    },
    {
     "cell_type": "heading",
     "level": 2,
     "metadata": {},
     "source": [
      "Newton's Method"
     ]
    },
    {
     "cell_type": "markdown",
     "metadata": {},
     "source": [
      "Let g(x) be a differentiable function with derivative Dg(x). The solution to the equation g(x) = 0 is a fixed point of f(x) = x - g(x)/Dg(x). We can use this relationship to solve the equation g(x) = 0 by finding the fixed point of f(x). First we need a procedure that returns the derivative of a function."
     ]
    },
    {
     "cell_type": "markdown",
     "metadata": {},
     "source": [
      "By the definition of derivative, Dg(x) = (g(x+dx) - g(x))/dx. That is the derivative takes a function and returns a function Dg(x)."
     ]
    },
    {
     "cell_type": "code",
     "collapsed": false,
     "input": [
      "dx = 0.00001"
     ],
     "language": "python",
     "metadata": {},
     "outputs": [
      {
       "metadata": {},
       "output_type": "pyout",
       "prompt_number": 10,
       "text": [
        "1.0e-5"
       ]
      }
     ],
     "prompt_number": 10
    },
    {
     "cell_type": "code",
     "collapsed": false,
     "input": [
      "function D(f)\n",
      "    x -> (f(x+dx) - f(x))/dx\n",
      "end"
     ],
     "language": "python",
     "metadata": {},
     "outputs": [
      {
       "metadata": {},
       "output_type": "pyout",
       "prompt_number": 11,
       "text": [
        "D (generic function with 1 method)"
       ]
      }
     ],
     "prompt_number": 11
    },
    {
     "cell_type": "code",
     "collapsed": false,
     "input": [
      "Newton_Transform(g) = x -> x - g(x)/D(g)(x) # given a function g as argument, \n",
      "                                            # Newton_Transform returns\n",
      "                                            # a function of one variable x"
     ],
     "language": "python",
     "metadata": {},
     "outputs": [
      {
       "metadata": {},
       "output_type": "pyout",
       "prompt_number": 12,
       "text": [
        "Newton_Transform (generic function with 1 method)"
       ]
      }
     ],
     "prompt_number": 12
    },
    {
     "cell_type": "code",
     "collapsed": false,
     "input": [
      "function Newton_Solve(g, guess)\n",
      "    fixed_point(Newton_Transform(g) , guess)\n",
      "end"
     ],
     "language": "python",
     "metadata": {},
     "outputs": [
      {
       "metadata": {},
       "output_type": "pyout",
       "prompt_number": 13,
       "text": [
        "Newton_Solve (generic function with 1 method)"
       ]
      }
     ],
     "prompt_number": 13
    },
    {
     "cell_type": "code",
     "collapsed": false,
     "input": [
      "Newton_Square_Root(x) = Newton_Solve(y -> y^2 - x, 1.0)"
     ],
     "language": "python",
     "metadata": {},
     "outputs": [
      {
       "metadata": {},
       "output_type": "pyout",
       "prompt_number": 14,
       "text": [
        "Newton_Square_Root (generic function with 1 method)"
       ]
      }
     ],
     "prompt_number": 14
    },
    {
     "cell_type": "code",
     "collapsed": false,
     "input": [
      "Newton_Square_Root(25)"
     ],
     "language": "python",
     "metadata": {},
     "outputs": [
      {
       "metadata": {},
       "output_type": "pyout",
       "prompt_number": 16,
       "text": [
        "5.000023193414481"
       ]
      }
     ],
     "prompt_number": 16
    },
    {
     "cell_type": "markdown",
     "metadata": {},
     "source": [
      "Generalize this application of fixed_point by writing a procedure that takes three arguments: a function, g, a transform (e.g., Newton_Transform), and a guess and returns a function of one variable, x. "
     ]
    },
    {
     "cell_type": "code",
     "collapsed": false,
     "input": [
      "function Fixed_Point_of_Transform(g, transform, guess)\n",
      "    fixed_point(transform(g), guess)\n",
      "end"
     ],
     "language": "python",
     "metadata": {},
     "outputs": [
      {
       "metadata": {},
       "output_type": "pyout",
       "prompt_number": 17,
       "text": [
        "Fixed_Point_of_Transform (generic function with 1 method)"
       ]
      }
     ],
     "prompt_number": 17
    },
    {
     "cell_type": "code",
     "collapsed": false,
     "input": [
      "SR2(x) = Fixed_Point_of_Transform(y -> y^2 - x, Newton_Transform, 1.0)"
     ],
     "language": "python",
     "metadata": {},
     "outputs": [
      {
       "metadata": {},
       "output_type": "pyout",
       "prompt_number": 61,
       "text": [
        "SR2 (generic function with 1 method)"
       ]
      }
     ],
     "prompt_number": 61
    },
    {
     "cell_type": "code",
     "collapsed": false,
     "input": [
      "SR2(25)"
     ],
     "language": "python",
     "metadata": {},
     "outputs": [
      {
       "metadata": {},
       "output_type": "pyout",
       "prompt_number": 62,
       "text": [
        "5.000023193414481"
       ]
      }
     ],
     "prompt_number": 62
    },
    {
     "cell_type": "markdown",
     "metadata": {},
     "source": [
      "A function, cubic, to use with Newton_Solve to solve f(x) = 0 where f is a cubic function."
     ]
    },
    {
     "cell_type": "code",
     "collapsed": false,
     "input": [
      "cubic(a, b, c) = x -> x^3 + a*x^2 + b*x + c # given a, b, c, cubic\n",
      "                                            # returns a function of x"
     ],
     "language": "python",
     "metadata": {},
     "outputs": [
      {
       "metadata": {},
       "output_type": "pyout",
       "prompt_number": 18,
       "text": [
        "cubic (generic function with 1 method)"
       ]
      }
     ],
     "prompt_number": 18
    },
    {
     "cell_type": "code",
     "collapsed": false,
     "input": [
      "Solve_Cubic(a, b, c) = Newton_Solve(cubic(a, b, c), 1.0)"
     ],
     "language": "python",
     "metadata": {},
     "outputs": [
      {
       "metadata": {},
       "output_type": "pyout",
       "prompt_number": 19,
       "text": [
        "Solve_Cubic (generic function with 1 method)"
       ]
      }
     ],
     "prompt_number": 19
    },
    {
     "cell_type": "code",
     "collapsed": false,
     "input": [
      "Solve_Cubic(1, 2, 3)"
     ],
     "language": "python",
     "metadata": {},
     "outputs": [
      {
       "metadata": {},
       "output_type": "pyout",
       "prompt_number": 20,
       "text": [
        "-1.276209090923146"
       ]
      }
     ],
     "prompt_number": 20
    },
    {
     "cell_type": "code",
     "collapsed": false,
     "input": [
      "Solve_Cubic(0, 0, 0)"
     ],
     "language": "python",
     "metadata": {},
     "outputs": [
      {
       "metadata": {},
       "output_type": "pyout",
       "prompt_number": 72,
       "text": [
        "0.0022936237869143057"
       ]
      }
     ],
     "prompt_number": 72
    },
    {
     "cell_type": "code",
     "collapsed": false,
     "input": [
      "Solve_Cubic(0, 0, 9)"
     ],
     "language": "python",
     "metadata": {},
     "outputs": [
      {
       "metadata": {},
       "output_type": "pyout",
       "prompt_number": 73,
       "text": [
        "-2.080415280443686"
       ]
      }
     ],
     "prompt_number": 73
    },
    {
     "cell_type": "markdown",
     "metadata": {},
     "source": [
      "SICP ex. 1.41.  Define a procedure, plus_one, that takes a procedure of one argument and returns a procedure that applies the original procedure twice."
     ]
    },
    {
     "cell_type": "code",
     "collapsed": false,
     "input": [],
     "language": "python",
     "metadata": {},
     "outputs": []
    },
    {
     "cell_type": "code",
     "collapsed": false,
     "input": [
      "function double(f) # given a function f of one variable, \n",
      "                   # the function double returns\n",
      "    x -> f(f(x))   # a function of one variable x applying f to f(x)\n",
      "end"
     ],
     "language": "python",
     "metadata": {},
     "outputs": [
      {
       "metadata": {},
       "output_type": "pyout",
       "prompt_number": 23,
       "text": [
        "double (generic function with 1 method)"
       ]
      }
     ],
     "prompt_number": 23
    },
    {
     "cell_type": "code",
     "collapsed": false,
     "input": [
      "function plus_one(x) # given a number x, this function returns the number x+1\n",
      "    x+1\n",
      "end"
     ],
     "language": "python",
     "metadata": {},
     "outputs": [
      {
       "metadata": {},
       "output_type": "pyout",
       "prompt_number": 22,
       "text": [
        "plus_one (generic function with 1 method)"
       ]
      }
     ],
     "prompt_number": 22
    },
    {
     "cell_type": "code",
     "collapsed": false,
     "input": [
      "plus_one(4)"
     ],
     "language": "python",
     "metadata": {},
     "outputs": [
      {
       "metadata": {},
       "output_type": "pyout",
       "prompt_number": 5,
       "text": [
        "5"
       ]
      }
     ],
     "prompt_number": 5
    },
    {
     "cell_type": "code",
     "collapsed": false,
     "input": [
      "p2(x) = double(plus_one)(x) # p2 is a function of one variable\n"
     ],
     "language": "python",
     "metadata": {},
     "outputs": [
      {
       "metadata": {},
       "output_type": "pyout",
       "prompt_number": 24,
       "text": [
        "p2 (generic function with 1 method)"
       ]
      }
     ],
     "prompt_number": 24
    },
    {
     "cell_type": "code",
     "collapsed": false,
     "input": [
      "p2(5)"
     ],
     "language": "python",
     "metadata": {},
     "outputs": [
      {
       "metadata": {},
       "output_type": "pyout",
       "prompt_number": 25,
       "text": [
        "7"
       ]
      }
     ],
     "prompt_number": 25
    },
    {
     "cell_type": "code",
     "collapsed": false,
     "input": [
      "double(double(double))(plus_one)(5)"
     ],
     "language": "python",
     "metadata": {},
     "outputs": [
      {
       "metadata": {},
       "output_type": "pyout",
       "prompt_number": 26,
       "text": [
        "21"
       ]
      }
     ],
     "prompt_number": 26
    },
    {
     "cell_type": "markdown",
     "metadata": {},
     "source": [
      "SICP ex. 1.42.  Define a function compose that composes 2 functions f and g: x -> f(g(x))."
     ]
    },
    {
     "cell_type": "code",
     "collapsed": false,
     "input": [
      "compose(f, g) = x -> f(g(x)) # compose takes as arguments two functions of \n",
      "                             # a single variable and returns a number\n",
      "                             # that is f(g(x))"
     ],
     "language": "python",
     "metadata": {},
     "outputs": [
      {
       "metadata": {},
       "output_type": "pyout",
       "prompt_number": 27,
       "text": [
        "compose (generic function with 1 method)"
       ]
      }
     ],
     "prompt_number": 27
    },
    {
     "cell_type": "code",
     "collapsed": false,
     "input": [
      "function Square(x) # takes a number x and returns x^2\n",
      "    x^2\n",
      "end"
     ],
     "language": "python",
     "metadata": {},
     "outputs": [
      {
       "metadata": {},
       "output_type": "pyout",
       "prompt_number": 28,
       "text": [
        "Square (generic function with 1 method)"
       ]
      }
     ],
     "prompt_number": 28
    },
    {
     "cell_type": "code",
     "collapsed": false,
     "input": [
      "compose(Square, plus_one)(2)"
     ],
     "language": "python",
     "metadata": {},
     "outputs": [
      {
       "metadata": {},
       "output_type": "pyout",
       "prompt_number": 29,
       "text": [
        "9"
       ]
      }
     ],
     "prompt_number": 29
    },
    {
     "cell_type": "code",
     "collapsed": false,
     "input": [
      "plus_one(2)"
     ],
     "language": "python",
     "metadata": {},
     "outputs": [
      {
       "metadata": {},
       "output_type": "pyout",
       "prompt_number": 30,
       "text": [
        "3"
       ]
      }
     ],
     "prompt_number": 30
    },
    {
     "cell_type": "code",
     "collapsed": false,
     "input": [
      "Square(3)"
     ],
     "language": "python",
     "metadata": {},
     "outputs": [
      {
       "metadata": {},
       "output_type": "pyout",
       "prompt_number": 31,
       "text": [
        "9"
       ]
      }
     ],
     "prompt_number": 31
    },
    {
     "cell_type": "markdown",
     "metadata": {},
     "source": [
      "**SICP ex. 1.43**  f is a single-variable function; n is a positive integer. f may be applied to itself n times. Write a function, n_compose, that takes two arguments: a function f and a positive integer n. repeat returns a function of one variable x equal to f applied to itself n times and then applied to x."
     ]
    },
    {
     "cell_type": "code",
     "collapsed": false,
     "input": [
      "function n_compose(f, n)\n",
      "    if n == 1\n",
      "        f\n",
      "    else\n",
      "        n_compose(compose(f, f), n-1)\n",
      "    end\n",
      "end"
     ],
     "language": "python",
     "metadata": {},
     "outputs": [
      {
       "metadata": {},
       "output_type": "pyout",
       "prompt_number": 37,
       "text": [
        "n_compose (generic function with 1 method)"
       ]
      }
     ],
     "prompt_number": 37
    },
    {
     "cell_type": "code",
     "collapsed": false,
     "input": [
      "n_compose(plus_one, 8)(10)"
     ],
     "language": "python",
     "metadata": {},
     "outputs": [
      {
       "metadata": {},
       "output_type": "pyout",
       "prompt_number": 38,
       "text": [
        "138"
       ]
      }
     ],
     "prompt_number": 38
    },
    {
     "cell_type": "code",
     "collapsed": false,
     "input": [
      "Square(2)"
     ],
     "language": "python",
     "metadata": {},
     "outputs": [
      {
       "metadata": {},
       "output_type": "pyout",
       "prompt_number": 39,
       "text": [
        "4"
       ]
      }
     ],
     "prompt_number": 39
    },
    {
     "cell_type": "code",
     "collapsed": false,
     "input": [
      "n_compose(Square, 2)(5)"
     ],
     "language": "python",
     "metadata": {},
     "outputs": [
      {
       "metadata": {},
       "output_type": "pyout",
       "prompt_number": 40,
       "text": [
        "625"
       ]
      }
     ],
     "prompt_number": 40
    },
    {
     "cell_type": "markdown",
     "metadata": {},
     "source": [
      "**SICP ex. 1.44** If f is a function and dx is a small number, then the smoothed version of f is the function whose value at a point x is the average of f(x - dx), f(x) and f(x + dx).  Write a procedure that computes the smoothed f. It is sometimes valuable to repeatedly smooth a function to obtain the n-fold smoothed function. Use n_compose to make this function too."
     ]
    },
    {
     "cell_type": "code",
     "collapsed": false,
     "input": [
      "dx = 0.00001 # a small number"
     ],
     "language": "python",
     "metadata": {},
     "outputs": [
      {
       "metadata": {},
       "output_type": "pyout",
       "prompt_number": 41,
       "text": [
        "1.0e-5"
       ]
      }
     ],
     "prompt_number": 41
    },
    {
     "cell_type": "code",
     "collapsed": false,
     "input": [
      "function average_of_three(x, y, z)\n",
      "    (x + y + z)/3.0\n",
      "end\n",
      "    "
     ],
     "language": "python",
     "metadata": {},
     "outputs": [
      {
       "metadata": {},
       "output_type": "pyout",
       "prompt_number": 44,
       "text": [
        "average_of_three (generic function with 1 method)"
       ]
      }
     ],
     "prompt_number": 44
    },
    {
     "cell_type": "code",
     "collapsed": false,
     "input": [
      "function smooth(f)\n",
      "    x -> average_of_three(f(x-dx), f(x), f(x+dx))\n",
      "end"
     ],
     "language": "python",
     "metadata": {},
     "outputs": [
      {
       "metadata": {},
       "output_type": "pyout",
       "prompt_number": 45,
       "text": [
        "smooth (generic function with 1 method)"
       ]
      }
     ],
     "prompt_number": 45
    },
    {
     "cell_type": "code",
     "collapsed": false,
     "input": [
      "function n_smooth(f, n)\n",
      "    n_compose(smooth(f), n)\n",
      "end"
     ],
     "language": "python",
     "metadata": {},
     "outputs": [
      {
       "metadata": {},
       "output_type": "pyout",
       "prompt_number": 53,
       "text": [
        "n_smooth (generic function with 1 method)"
       ]
      }
     ],
     "prompt_number": 53
    },
    {
     "cell_type": "markdown",
     "metadata": {},
     "source": [
      "**SICP ex. 1.45**  A search for the fixed point of y -> x/y does not converge without using something like average damping to get out of the bi-cycle. Same method works to find cube roots as fixed points of the average-damped y -> x/y^2. But does not work for 4th roots--a single average damp is not enough. But average-damping twice works on y -> x/y^3. Do some experiments to determine how many average damps are required to compute the nth roots as a fixed-point search based upon repeated average damping of y -> x/y^(n-1). Use this to implement a simple procedure for computing nth roots using fixed_point, average_damp, and the n_compose function."
     ]
    },
    {
     "cell_type": "markdown",
     "metadata": {},
     "source": [
      "Experiments"
     ]
    },
    {
     "cell_type": "code",
     "collapsed": false,
     "input": [
      "fourth_root(x) = fixed_point(n_compose(average_damp(y -> x/y^3), 2), 2.0)"
     ],
     "language": "python",
     "metadata": {},
     "outputs": [
      {
       "metadata": {},
       "output_type": "pyout",
       "prompt_number": 65,
       "text": [
        "fourth_root (generic function with 1 method)"
       ]
      }
     ],
     "prompt_number": 65
    },
    {
     "cell_type": "code",
     "collapsed": false,
     "input": [
      "fourth_root(2401)"
     ],
     "language": "python",
     "metadata": {},
     "outputs": [
      {
       "metadata": {},
       "output_type": "pyout",
       "prompt_number": 66,
       "text": [
        "6.819459251781332"
       ]
      }
     ],
     "prompt_number": 66
    },
    {
     "cell_type": "code",
     "collapsed": false,
     "input": [
      "fifth_root(x) = fixed_point(n_compose(average_damp(y -> x/y^4), 2), 2.0)"
     ],
     "language": "python",
     "metadata": {},
     "outputs": [
      {
       "metadata": {},
       "output_type": "pyout",
       "prompt_number": 73,
       "text": [
        "fifth_root (generic function with 1 method)"
       ]
      }
     ],
     "prompt_number": 73
    },
    {
     "cell_type": "code",
     "collapsed": false,
     "input": [
      "fifth_root(16807)"
     ],
     "language": "python",
     "metadata": {},
     "outputs": [
      {
       "metadata": {},
       "output_type": "pyout",
       "prompt_number": 74,
       "text": [
        "5.854770437376658"
       ]
      }
     ],
     "prompt_number": 74
    },
    {
     "cell_type": "code",
     "collapsed": false,
     "input": [
      "eighth_root(x) = fixed_point(n_compose(average_damp(y -> x/y^7), 3), 1.0)"
     ],
     "language": "python",
     "metadata": {},
     "outputs": [
      {
       "metadata": {},
       "output_type": "pyout",
       "prompt_number": 81,
       "text": [
        "eighth_root (generic function with 1 method)"
       ]
      }
     ],
     "prompt_number": 81
    },
    {
     "cell_type": "code",
     "collapsed": false,
     "input": [
      "eighth_root(256)"
     ],
     "language": "python",
     "metadata": {},
     "outputs": [
      {
       "metadata": {},
       "output_type": "pyout",
       "prompt_number": 82,
       "text": [
        "1.7470621522612735"
       ]
      }
     ],
     "prompt_number": 82
    },
    {
     "cell_type": "code",
     "collapsed": false,
     "input": [
      "eighth_root(65536)"
     ],
     "language": "python",
     "metadata": {},
     "outputs": [
      {
       "metadata": {},
       "output_type": "pyout",
       "prompt_number": 83,
       "text": [
        "3.411157525763615"
       ]
      }
     ],
     "prompt_number": 83
    },
    {
     "cell_type": "code",
     "collapsed": false,
     "input": [
      "function n_root(x, n)\n",
      "    fixed_point(n_compose(average_damp(y -> x/(y^(n-1))), floor(log(n)/log(2))), 1.0)\n",
      "end"
     ],
     "language": "python",
     "metadata": {},
     "outputs": [
      {
       "metadata": {},
       "output_type": "pyout",
       "prompt_number": 90,
       "text": [
        "n_root (generic function with 1 method)"
       ]
      }
     ],
     "prompt_number": 90
    },
    {
     "cell_type": "code",
     "collapsed": false,
     "input": [
      "n_root(144, 2)"
     ],
     "language": "python",
     "metadata": {},
     "outputs": [
      {
       "metadata": {},
       "output_type": "pyout",
       "prompt_number": 87,
       "text": [
        "12.000000012408687"
       ]
      }
     ],
     "prompt_number": 87
    },
    {
     "cell_type": "code",
     "collapsed": false,
     "input": [
      "n_root(78125, 7)"
     ],
     "language": "python",
     "metadata": {},
     "outputs": [
      {
       "metadata": {},
       "output_type": "pyout",
       "prompt_number": 91,
       "text": [
        "5.0000611903989265"
       ]
      }
     ],
     "prompt_number": 91
    },
    {
     "cell_type": "markdown",
     "metadata": {},
     "source": [
      "**SICP ex. 1.46 on the iterative improvement method**  Write a procedure, iterative_improve, that takes 2 procedures as arguments: a method for telling whether a guess is good enough and a method for improving a guess. iterative_improve should return as its value a procedure that takes a guess as an argument and keeps improving the guess until it is good enough."
     ]
    },
    {
     "cell_type": "code",
     "collapsed": false,
     "input": [
      "function iterative_improve(good_enough, improve)\n",
      "    function iterator(guess)\n",
      "        if good_enough(guess)\n",
      "            guess\n",
      "        else\n",
      "            iterator(improve(guess))\n",
      "        end\n",
      "    end\n",
      "    guess -> iterator(guess)\n",
      "end\n"
     ],
     "language": "python",
     "metadata": {},
     "outputs": [
      {
       "metadata": {},
       "output_type": "pyout",
       "prompt_number": 98,
       "text": [
        "iterative_improve (generic function with 1 method)"
       ]
      }
     ],
     "prompt_number": 98
    },
    {
     "cell_type": "markdown",
     "metadata": {},
     "source": [
      "One way to define a square root function is to improve successive guesses by trying a new guess = average(guess (x/guess)) and by testing close enough with some tolerance for the distance between x and guess^2:"
     ]
    },
    {
     "cell_type": "markdown",
     "metadata": {},
     "source": [
      "In this approach the test method is:"
     ]
    },
    {
     "cell_type": "code",
     "collapsed": false,
     "input": [
      "function new_sqrt(x)\n",
      "    function guess_ok(guess)\n",
      "        abs(guess^2 - x) < 0.001\n",
      "    end\n",
      "    function improve_guess(guess)\n",
      "        average(guess, x/guess)\n",
      "    end\n",
      "    iterative_improve(guess_ok, improve_guess)(1.0)\n",
      "end"
     ],
     "language": "python",
     "metadata": {},
     "outputs": [
      {
       "metadata": {},
       "output_type": "pyout",
       "prompt_number": 103,
       "text": [
        "new_sqrt (generic function with 1 method)"
       ]
      }
     ],
     "prompt_number": 103
    },
    {
     "cell_type": "code",
     "collapsed": false,
     "input": [
      "new_sqrt(144)"
     ],
     "language": "python",
     "metadata": {},
     "outputs": [
      {
       "metadata": {},
       "output_type": "pyout",
       "prompt_number": 104,
       "text": [
        "12.000000012408687"
       ]
      }
     ],
     "prompt_number": 104
    },
    {
     "cell_type": "markdown",
     "metadata": {},
     "source": [
      "Use the iterative_improve function to re-write the fixed_point function"
     ]
    },
    {
     "cell_type": "markdown",
     "metadata": {},
     "source": [
      "The fixed_point function takes a function f and a guess. The improved guess is just the value f(guess). The good_enough test function simply tests whether guess and f(guess) are within a specified distance."
     ]
    },
    {
     "cell_type": "code",
     "collapsed": false,
     "input": [
      "function new_fixed_point(f, guess)\n",
      "    function close_enough(guess)\n",
      "        abs(guess - f(guess)) < 0.001\n",
      "    end\n",
      "    function improve_guess(guess)\n",
      "        f(guess)\n",
      "    end\n",
      "    iterative_improve(close_enough, improve_guess)(1.0)\n",
      "end"
     ],
     "language": "python",
     "metadata": {},
     "outputs": [
      {
       "metadata": {},
       "output_type": "pyout",
       "prompt_number": 105,
       "text": [
        "new_fixed_point (generic function with 1 method)"
       ]
      }
     ],
     "prompt_number": 105
    },
    {
     "cell_type": "code",
     "collapsed": false,
     "input": [
      "alt_square_root(x) = new_fixed_point(average_damp(y -> x/y), 1.0)"
     ],
     "language": "python",
     "metadata": {},
     "outputs": [
      {
       "metadata": {},
       "output_type": "pyout",
       "prompt_number": 106,
       "text": [
        "alt_square_root (generic function with 1 method)"
       ]
      }
     ],
     "prompt_number": 106
    },
    {
     "cell_type": "code",
     "collapsed": false,
     "input": [
      "alt_square_root(25)"
     ],
     "language": "python",
     "metadata": {},
     "outputs": [
      {
       "metadata": {},
       "output_type": "pyout",
       "prompt_number": 107,
       "text": [
        "5.000023178253949"
       ]
      }
     ],
     "prompt_number": 107
    }
   ],
   "metadata": {}
  }
 ]
}