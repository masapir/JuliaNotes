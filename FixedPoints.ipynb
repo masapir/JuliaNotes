{
 "metadata": {
  "language": "Julia",
  "name": "",
  "signature": "sha256:887a46e4c1e83ea70bdb64e8bb2c09a1bb86c7a2120297d6045380b765428d30"
 },
 "nbformat": 3,
 "nbformat_minor": 0,
 "worksheets": [
  {
   "cells": [
    {
     "cell_type": "heading",
     "level": 3,
     "metadata": {},
     "source": [
      "Finding Fixed Points of Functions"
     ]
    },
    {
     "cell_type": "markdown",
     "metadata": {},
     "source": [
      "Refer to SICP p. 68."
     ]
    },
    {
     "cell_type": "markdown",
     "metadata": {},
     "source": [
      "A fixed point of a function f(x) is a point $x_0$ such that f($x_0$) = $x_0$"
     ]
    },
    {
     "cell_type": "markdown",
     "metadata": {},
     "source": [
      "For some functions you can obtain the fixed point by repeatedly applying the function."
     ]
    },
    {
     "cell_type": "markdown",
     "metadata": {},
     "source": [
      "We will use this property to write a fixed_point procedure that returns the fixed point of a function by iteratively applying f and testing whether f(x) is within a specified tolerance."
     ]
    },
    {
     "cell_type": "markdown",
     "metadata": {},
     "source": [
      "First we set up a variable to specify the tolerance for the test."
     ]
    },
    {
     "cell_type": "code",
     "collapsed": false,
     "input": [
      "tolerance = 0.0001"
     ],
     "language": "python",
     "metadata": {},
     "outputs": [
      {
       "metadata": {},
       "output_type": "pyout",
       "prompt_number": 3,
       "text": [
        "0.0001"
       ]
      }
     ],
     "prompt_number": 3
    },
    {
     "cell_type": "markdown",
     "metadata": {},
     "source": [
      "The function fixed_point will take an initial guess and a function f. It will include an internal function close_enough. close_enough will return True if abs(f(x) - x) < tolerance, False otherwise. fixed_point will also include another internal function define the iterative process and finally a call to that iterative process function. Let's call this fp_iterator for fixed-point iterator function."
     ]
    },
    {
     "cell_type": "code",
     "collapsed": false,
     "input": [
      "function fixed_point(func, guess)\n",
      "    function close_enough(x1, x2)\n",
      "        abs(x2 - x1) < tolerance\n",
      "    end\n",
      "    function fp_iterator(func, guess)\n",
      "        if close_enough(func(guess), guess)\n",
      "            guess\n",
      "        else\n",
      "            fp_iterator(func, func(guess))\n",
      "        end\n",
      "    end\n",
      "    fp_iterator(func, guess)\n",
      "end"
     ],
     "language": "python",
     "metadata": {},
     "outputs": [
      {
       "metadata": {},
       "output_type": "pyout",
       "prompt_number": 17,
       "text": [
        "fixed_point (generic function with 1 method)"
       ]
      }
     ],
     "prompt_number": 17
    },
    {
     "cell_type": "markdown",
     "metadata": {},
     "source": [
      "Let's try fixed_point on the cosine function with an initial guess 1. With these arguments fixed_point should converge on the cosine function's fixed point. This value can also be obtained by pressing the cosine button repeatedly on a calculator."
     ]
    },
    {
     "cell_type": "code",
     "collapsed": false,
     "input": [
      "fixed_point(cos, 1)"
     ],
     "language": "python",
     "metadata": {},
     "outputs": [
      {
       "metadata": {},
       "output_type": "pyout",
       "prompt_number": 18,
       "text": [
        "0.7391301765296711"
       ]
      }
     ],
     "prompt_number": 18
    },
    {
     "cell_type": "markdown",
     "metadata": {},
     "source": [
      "On my calculator the display shows a fixed point value of cos after 55 calls. The value is 0.739085133."
     ]
    },
    {
     "cell_type": "markdown",
     "metadata": {},
     "source": [
      "Let's keep track of the guesses:"
     ]
    },
    {
     "cell_type": "code",
     "collapsed": false,
     "input": [
      "function fixed_point_tg(func, guess)\n",
      "    guess_list = Float64[]\n",
      "    function close_enough(x1, x2)\n",
      "        abs(x2 - x1) < tolerance\n",
      "    end\n",
      "    function fp_iterator(func, guess, guess_list)\n",
      "        if close_enough(func(guess), guess)\n",
      "            guess_list = push!(guess_list, guess)\n",
      "            println(\"The fixed point of \", func, \" is: \", guess_list[end])\n",
      "            println(\"Computing this fixed point took \", length(guess_list)-1, \" iterations.\")\n",
      "            println(\"Here is a list of successive guesses: \", guess_list)\n",
      "        else\n",
      "            guess_list = push!(guess_list, guess)\n",
      "            fp_iterator(func, func(guess), guess_list)\n",
      "        end\n",
      "    end\n",
      "    fp_iterator(func, guess, guess_list)\n",
      "end"
     ],
     "language": "python",
     "metadata": {},
     "outputs": [
      {
       "metadata": {},
       "output_type": "pyout",
       "prompt_number": 15,
       "text": [
        "fixed_point_tg (generic function with 1 method)"
       ]
      }
     ],
     "prompt_number": 15
    },
    {
     "cell_type": "code",
     "collapsed": false,
     "input": [
      "fixed_point_tg(cos, 1.0)"
     ],
     "language": "python",
     "metadata": {},
     "outputs": [
      {
       "output_type": "stream",
       "stream": "stdout",
       "text": [
        "The fixed point of cos"
       ]
      },
      {
       "output_type": "stream",
       "stream": "stdout",
       "text": [
        " is: 0.7391301765296711\n",
        "Computing this fixed point took 22 iterations.\n",
        "Here is a list of successive guesses: [1.0,0.5403023058681398,0.8575532158463934,0.6542897904977791,0.7934803587425656,0.7013687736227565,0.7639596829006542,0.7221024250267077,0.7504177617637605,0.7314040424225098,0.744237354900557,0.7356047404363473,0.7414250866101092,0.7375068905132428,0.7401473355678757,0.7383692041223232,0.739567202212256,0.7387603198742114,0.7393038923969057,0.7389377567153446,0.7391843997714936,0.7390182624274122,0.7391301765296711]\n"
       ]
      }
     ],
     "prompt_number": 16
    },
    {
     "cell_type": "markdown",
     "metadata": {},
     "source": [
      "What does the fixed point process tell us about a function? What characteristics of a functon make the fixed point converge?"
     ]
    },
    {
     "cell_type": "markdown",
     "metadata": {},
     "source": [
      "SICP ex. 1.35.  Golden ratio, \u03a6, is a fixed point of x -> 1 + 1/x."
     ]
    },
    {
     "cell_type": "code",
     "collapsed": false,
     "input": [
      "\u03a6(x) = 1 + 1/x # the golden ratio is a fixed point of \u03a6"
     ],
     "language": "python",
     "metadata": {},
     "outputs": [
      {
       "metadata": {},
       "output_type": "pyout",
       "prompt_number": 20,
       "text": [
        "\u03a6 (generic function with 1 method)"
       ]
      }
     ],
     "prompt_number": 20
    },
    {
     "cell_type": "markdown",
     "metadata": {},
     "source": [
      "Compute the golden ratio:"
     ]
    },
    {
     "cell_type": "code",
     "collapsed": false,
     "input": [
      "fixed_point(\u03a6, 1.5)"
     ],
     "language": "python",
     "metadata": {},
     "outputs": [
      {
       "metadata": {},
       "output_type": "pyout",
       "prompt_number": 21,
       "text": [
        "1.6179775280898876"
       ]
      }
     ],
     "prompt_number": 21
    },
    {
     "cell_type": "code",
     "collapsed": false,
     "input": [
      "fixed_point_tg(\u03a6, 1.5)"
     ],
     "language": "python",
     "metadata": {},
     "outputs": [
      {
       "output_type": "stream",
       "stream": "stdout",
       "text": [
        "The fixed point of \u03a6"
       ]
      },
      {
       "output_type": "stream",
       "stream": "stdout",
       "text": [
        " is: 1.6179775280898876\n",
        "Computing this fixed point took 8 iterations.\n",
        "Here is a list of successive guesses: [1.5,1.6666666666666665,1.6,1.625,1.6153846153846154,1.619047619047619,1.6176470588235294,1.6181818181818182,1.6179775280898876]\n"
       ]
      }
     ],
     "prompt_number": 22
    },
    {
     "cell_type": "markdown",
     "metadata": {},
     "source": [
      "Google search says the golden ratio is 1.61803398875"
     ]
    },
    {
     "cell_type": "markdown",
     "metadata": {},
     "source": [
      "Modify the fixed_point_tg function so that it prints each guess on a new line."
     ]
    },
    {
     "cell_type": "code",
     "collapsed": false,
     "input": [
      "function fixed_point_guesses(func, guess)\n",
      "    function close_enough(x1, x2)\n",
      "        abs(x2 - x1) < 0.0001\n",
      "    end\n",
      "    function fp_iterator(func, guess, counter)\n",
      "        if counter == 100\n",
      "            println(\"100 iterations exceeded\")\n",
      "            println(\"last guess was: \", guess)\n",
      "        elseif close_enough(func(guess), guess)\n",
      "            println(\"The fixed point of \", func, \" is: \", guess)\n",
      "            println(counter-2, \" iterations to get fixed point.\")\n",
      "        else\n",
      "            println(\"guess \", counter, \": \", guess)\n",
      "            fp_iterator(func, func(guess), counter+1)\n",
      "        end\n",
      "    end\n",
      "    fp_iterator(func, guess, 1)\n",
      "end"
     ],
     "language": "python",
     "metadata": {},
     "outputs": [
      {
       "metadata": {},
       "output_type": "pyout",
       "prompt_number": 40,
       "text": [
        "fixed_point_guesses (generic function with 1 method)"
       ]
      }
     ],
     "prompt_number": 40
    },
    {
     "cell_type": "code",
     "collapsed": false,
     "input": [
      "fixed_point_guesses(\u03a6, 1.5)"
     ],
     "language": "python",
     "metadata": {},
     "outputs": [
      {
       "output_type": "stream",
       "stream": "stdout",
       "text": [
        "guess 1: "
       ]
      },
      {
       "output_type": "stream",
       "stream": "stdout",
       "text": [
        "1.5\n",
        "guess 2: 1.6666666666666665\n",
        "guess 3: 1.6\n",
        "guess 4: 1.625\n",
        "guess 5: 1.6153846153846154\n",
        "guess 6: 1.619047619047619\n",
        "guess 7: 1.6176470588235294\n",
        "guess 8: 1.6181818181818182\n",
        "The fixed point of \u03a6 is: 1.6179775280898876\n",
        "7 iterations to get fixed point.\n"
       ]
      }
     ],
     "prompt_number": 41
    },
    {
     "cell_type": "code",
     "collapsed": false,
     "input": [
      "fixed_point_guesses(cos, 1)"
     ],
     "language": "python",
     "metadata": {},
     "outputs": [
      {
       "output_type": "stream",
       "stream": "stdout",
       "text": [
        "guess 1: "
       ]
      },
      {
       "output_type": "stream",
       "stream": "stdout",
       "text": [
        "1\n",
        "guess 2: 0.5403023058681398\n",
        "guess 3: 0.8575532158463934\n",
        "guess 4: 0.6542897904977791\n",
        "guess 5: 0.7934803587425656\n",
        "guess 6: 0.7013687736227565\n",
        "guess 7: 0.7639596829006542\n",
        "guess 8: 0.7221024250267077\n",
        "guess 9: 0.7504177617637605\n",
        "guess 10: 0.7314040424225098\n",
        "guess 11: 0.744237354900557\n",
        "guess 12: 0.7356047404363473\n",
        "guess 13: 0.7414250866101092\n",
        "guess 14: 0.7375068905132428\n",
        "guess 15: 0.7401473355678757\n",
        "guess 16: 0.7383692041223232\n",
        "guess 17: 0.739567202212256\n",
        "guess 18: 0.7387603198742114\n",
        "guess 19: 0.7393038923969057\n",
        "guess 20: 0.7389377567153446\n",
        "guess 21: 0.7391843997714936\n",
        "guess 22: 0.7390182624274122\n",
        "The fixed point of cos is: 0.7391301765296711\n",
        "21 iterations to get fixed point.\n"
       ]
      }
     ],
     "prompt_number": 42
    },
    {
     "cell_type": "markdown",
     "metadata": {},
     "source": [
      "Think of good ways to illustrate iterations like this graphically."
     ]
    },
    {
     "cell_type": "markdown",
     "metadata": {},
     "source": [
      "SICP ex. 1.36.  Solve x^x = 1000 by finding the fixed point of x -> log(1000)/log(x)."
     ]
    },
    {
     "cell_type": "code",
     "collapsed": false,
     "input": [
      "log(e)"
     ],
     "language": "python",
     "metadata": {},
     "outputs": [
      {
       "metadata": {},
       "output_type": "pyout",
       "prompt_number": 31,
       "text": [
        "1"
       ]
      }
     ],
     "prompt_number": 31
    },
    {
     "cell_type": "code",
     "collapsed": false,
     "input": [
      "f(x) = log(1000)/log(x)"
     ],
     "language": "python",
     "metadata": {},
     "outputs": [
      {
       "metadata": {},
       "output_type": "pyout",
       "prompt_number": 32,
       "text": [
        "f (generic function with 1 method)"
       ]
      }
     ],
     "prompt_number": 32
    },
    {
     "cell_type": "code",
     "collapsed": false,
     "input": [
      "fixed_point_guesses(f, 2.0)"
     ],
     "language": "python",
     "metadata": {},
     "outputs": [
      {
       "output_type": "stream",
       "stream": "stdout",
       "text": [
        "guess 1: "
       ]
      },
      {
       "output_type": "stream",
       "stream": "stdout",
       "text": [
        "2.0\n",
        "guess 2: 9.965784284662087\n",
        "guess 3: 3.004472209841214\n",
        "guess 4: 6.279195757507157\n",
        "guess 5: 3.759850702401539\n",
        "guess 6: 5.215843784925895\n",
        "guess 7: 4.182207192401397\n",
        "guess 8: 4.8277650983445906\n",
        "guess 9: 4.387593384662677\n",
        "guess 10: 4.671250085763899\n",
        "guess 11: 4.481403616895052\n",
        "guess 12: 4.6053657460929\n",
        "guess 13: 4.5230849678718865\n",
        "guess 14: 4.577114682047341\n",
        "guess 15: 4.541382480151454\n",
        "guess 16: 4.564903245230833\n",
        "guess 17: 4.549372679303342\n",
        "guess 18: 4.559606491913287\n",
        "guess 19: 4.552853875788271\n",
        "guess 20: 4.557305529748263\n",
        "guess 21: 4.554369064436181\n",
        "guess 22: 4.556305311532999\n",
        "guess 23: 4.555028263573554\n",
        "guess 24: 4.555870396702851\n",
        "guess 25: 4.555315001192079\n",
        "guess 26: 4.5556812635433275\n",
        "guess 27: 4.555439715736846\n",
        "guess 28: 4.555599009998291\n",
        "The fixed point of f is: 4.555493957531389\n",
        "27 iterations to get fixed point.\n"
       ]
      }
     ],
     "prompt_number": 43
    },
    {
     "cell_type": "code",
     "collapsed": false,
     "input": [
      "4.555599009998291^4.555599009998291"
     ],
     "language": "python",
     "metadata": {},
     "outputs": [
      {
       "metadata": {},
       "output_type": "pyout",
       "prompt_number": 35,
       "text": [
        "1000.159309734955"
       ]
      }
     ],
     "prompt_number": 35
    },
    {
     "cell_type": "code",
     "collapsed": false,
     "input": [
      "g(x) = 1/x"
     ],
     "language": "python",
     "metadata": {},
     "outputs": [
      {
       "metadata": {},
       "output_type": "pyout",
       "prompt_number": 36,
       "text": [
        "g (generic function with 1 method)"
       ]
      }
     ],
     "prompt_number": 36
    },
    {
     "cell_type": "code",
     "collapsed": false,
     "input": [
      "fixed_point_guesses(g, 1.2)"
     ],
     "language": "python",
     "metadata": {},
     "outputs": [
      {
       "output_type": "stream",
       "stream": "stdout",
       "text": [
        "guess 1: "
       ]
      },
      {
       "output_type": "stream",
       "stream": "stdout",
       "text": [
        "1.2\n",
        "guess 2: 0.8333333333333334\n",
        "guess 3: 1.2\n",
        "guess 4: 0.8333333333333334\n",
        "guess 5: 1.2\n",
        "guess 6: 0.8333333333333334\n",
        "guess 7: 1.2\n",
        "guess 8: 0.8333333333333334\n",
        "guess 9: 1.2\n",
        "guess 10: 0.8333333333333334\n",
        "guess 11: 1.2\n",
        "guess 12: 0.8333333333333334\n",
        "guess 13: 1.2\n",
        "guess 14: 0.8333333333333334\n",
        "guess 15: 1.2\n",
        "guess 16: 0.8333333333333334\n",
        "guess 17: 1.2\n",
        "guess 18: 0.8333333333333334\n",
        "guess 19: 1.2\n",
        "guess 20: 0.8333333333333334\n",
        "guess 21: 1.2\n",
        "guess 22: 0.8333333333333334\n",
        "guess 23: 1.2\n",
        "guess 24: 0.8333333333333334\n",
        "guess 25: 1.2\n",
        "guess 26: 0.8333333333333334\n",
        "guess 27: 1.2\n",
        "guess 28: 0.8333333333333334\n",
        "guess 29: 1.2\n",
        "guess 30: 0.8333333333333334\n",
        "guess 31: 1.2\n",
        "guess 32: 0.8333333333333334\n",
        "guess 33: 1.2\n",
        "guess 34: 0.8333333333333334\n",
        "guess 35: 1.2\n",
        "guess 36: 0.8333333333333334\n",
        "guess 37: 1.2\n",
        "guess 38: 0.8333333333333334\n",
        "guess 39: 1.2\n",
        "guess 40: 0.8333333333333334\n",
        "guess 41: 1.2\n",
        "guess 42: 0.8333333333333334\n",
        "guess 43: 1.2\n",
        "guess 44: 0.8333333333333334\n",
        "guess 45: 1.2\n",
        "guess 46: 0.8333333333333334\n",
        "guess 47: 1.2\n",
        "guess 48: 0.8333333333333334\n",
        "guess 49: 1.2\n",
        "guess 50: 0.8333333333333334\n",
        "guess 51: 1.2\n",
        "guess 52: 0.8333333333333334\n",
        "guess 53: 1.2\n",
        "guess 54: 0.8333333333333334\n",
        "guess 55: 1.2\n",
        "guess 56: 0.8333333333333334\n",
        "guess 57: 1.2\n",
        "guess 58: 0.8333333333333334\n",
        "guess 59: 1.2\n",
        "guess 60: 0.8333333333333334\n",
        "guess 61: 1.2\n",
        "guess 62: 0.8333333333333334\n",
        "guess 63: 1.2\n",
        "guess 64: 0.8333333333333334\n",
        "guess 65: 1.2\n",
        "guess 66: 0.8333333333333334\n",
        "guess 67: 1.2\n",
        "guess 68: 0.8333333333333334\n",
        "guess 69: 1.2\n",
        "guess 70: 0.8333333333333334\n",
        "guess 71: 1.2\n",
        "guess 72: 0.8333333333333334\n",
        "guess 73: 1.2\n",
        "guess 74: 0.8333333333333334\n",
        "guess 75: 1.2\n",
        "guess 76: 0.8333333333333334\n",
        "guess 77: 1.2\n",
        "guess 78: 0.8333333333333334\n",
        "guess 79: 1.2\n",
        "guess 80: 0.8333333333333334\n",
        "guess 81: 1.2\n",
        "guess 82: 0.8333333333333334\n",
        "guess 83: 1.2\n",
        "guess 84: 0.8333333333333334\n",
        "guess 85: 1.2\n",
        "guess 86: 0.8333333333333334\n",
        "guess 87: 1.2\n",
        "guess 88: 0.8333333333333334\n",
        "guess 89: 1.2\n",
        "guess 90: 0.8333333333333334\n",
        "guess 91: 1.2\n",
        "guess 92: 0.8333333333333334\n",
        "guess 93: 1.2\n",
        "guess 94: 0.8333333333333334\n",
        "guess 95: 1.2\n",
        "guess 96: 0.8333333333333334\n",
        "guess 97: 1.2\n",
        "guess 98: 0.8333333333333334\n",
        "guess 99: 1.2\n",
        "100 iterations exceeded\n",
        "last guess was: 0.8333333333333334\n"
       ]
      }
     ],
     "prompt_number": 44
    },
    {
     "cell_type": "code",
     "collapsed": false,
     "input": [
      "average(x, y) = (x+y)/2"
     ],
     "language": "python",
     "metadata": {},
     "outputs": [
      {
       "metadata": {},
       "output_type": "pyout",
       "prompt_number": 45,
       "text": [
        "average (generic function with 1 method)"
       ]
      }
     ],
     "prompt_number": 45
    },
    {
     "cell_type": "code",
     "collapsed": false,
     "input": [
      "function fixed_point_guesses2(func, guess)\n",
      "    function close_enough(x1, x2)\n",
      "        abs(x2 - x1) < 0.0001\n",
      "    end\n",
      "    function fp_iterator(func, guess, counter)\n",
      "        if counter == 100\n",
      "            println(\"100 iterations exceeded\")\n",
      "            println(\"last guess was: \", guess)\n",
      "        elseif close_enough(func(guess), guess)\n",
      "            println(\"The fixed point of \", func, \" is: \", guess)\n",
      "            println(counter-2, \" iterations to get fixed point.\")\n",
      "        else #damping to move guess closer to fixed point\n",
      "            println(\"guess \", counter, \": \", guess)\n",
      "            fp_iterator(func, average(guess, func(guess)), counter+1)\n",
      "        end \n",
      "    end\n",
      "    fp_iterator(func, guess, 1)\n",
      "end"
     ],
     "language": "python",
     "metadata": {},
     "outputs": [
      {
       "metadata": {},
       "output_type": "pyout",
       "prompt_number": 46,
       "text": [
        "fixed_point_guesses2 (generic function with 1 method)"
       ]
      }
     ],
     "prompt_number": 46
    },
    {
     "cell_type": "code",
     "collapsed": false,
     "input": [
      "fixed_point_guesses2(g, 1.2)"
     ],
     "language": "python",
     "metadata": {},
     "outputs": [
      {
       "output_type": "stream",
       "stream": "stdout",
       "text": [
        "guess 1: "
       ]
      },
      {
       "output_type": "stream",
       "stream": "stdout",
       "text": [
        "1.2\n",
        "guess 2: 1.0166666666666666\n",
        "guess 3: 1.000136612021858\n",
        "The fixed point of g is: 1.0000000093301478\n",
        "2 iterations to get fixed point.\n"
       ]
      }
     ],
     "prompt_number": 47
    },
    {
     "cell_type": "code",
     "collapsed": false,
     "input": [
      "fixed_point_guesses2(g, 0.3)"
     ],
     "language": "python",
     "metadata": {},
     "outputs": [
      {
       "output_type": "stream",
       "stream": "stdout",
       "text": [
        "guess 1: "
       ]
      },
      {
       "output_type": "stream",
       "stream": "stdout",
       "text": [
        "0.3\n",
        "guess 2: 1.8166666666666667\n",
        "guess 3: 1.1835626911314985\n",
        "guess 4: 1.0142346754539995\n",
        "guess 5: 1.0000998910755985\n",
        "The fixed point of g is: 1.0000000049886153\n",
        "4 iterations to get fixed point.\n"
       ]
      }
     ],
     "prompt_number": 48
    },
    {
     "cell_type": "code",
     "collapsed": false,
     "input": [
      "fixed_point_guesses2(cos, 1)"
     ],
     "language": "python",
     "metadata": {},
     "outputs": [
      {
       "output_type": "stream",
       "stream": "stdout",
       "text": [
        "guess 1: "
       ]
      },
      {
       "output_type": "stream",
       "stream": "stdout",
       "text": [
        "1\n",
        "guess 2: 0.7701511529340699\n",
        "guess 3: 0.7439782957302291\n",
        "guess 4: 0.7398792505064894\n",
        "guess 5: 0.7392146118880453\n",
        "The fixed point of cos is: 0.7391062602582958\n",
        "4 iterations to get fixed point.\n"
       ]
      }
     ],
     "prompt_number": 49
    }
   ],
   "metadata": {}
  }
 ]
}